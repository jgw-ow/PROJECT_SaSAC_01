{
 "cells": [
  {
   "cell_type": "code",
   "execution_count": null,
   "metadata": {},
   "outputs": [],
   "source": [
    "from gensim import corpora, models\n",
    "import re\n",
    "# 불용어 목록 정의\n",
    "stop_words = {'수', '이', '그', '등', '더', '만', '들', '것', '같', '되', '있', '한', '티르티르', 'pzp', '있어요'}\n",
    "\n",
    "# 텍스트 전처리 함수\n",
    "def preprocess_text(text):\n",
    "    text = re.sub(r'\\[.*?\\]', '', text)  # 대괄호 내용 제거\n",
    "    text = re.sub(r'\\W+', ' ', text)  # 특수 문자 제거\n",
    "    tokens = text.lower().split()  # 공백 기준으로 토큰화\n",
    "    tokens = [word for word in tokens if word not in stop_words]  # 불용어 제거\n",
    "    return tokens\n",
    "\n",
    "# `content` 컬럼 전처리\n",
    "data['processed'] = data['content'].apply(preprocess_text)\n",
    "\n",
    "# 말뭉치 및 사전 생성\n",
    "dictionary = corpora.Dictionary(data['processed'])\n",
    "corpus = [dictionary.doc2bow(text) for text in data['processed']]\n",
    "\n",
    "# LDA 모델 학습\n",
    "lda_model = models.LdaModel(corpus, num_topics=5, id2word=dictionary, passes=2)\n",
    "\n",
    "# 토픽 출력\n",
    "topics = lda_model.print_topics(num_words=5)\n",
    "for idx, topic in topics:\n",
    "    print(f\"토픽 {idx}: {topic}\")"
   ]
  }
 ],
 "metadata": {
  "kernelspec": {
   "display_name": "study",
   "language": "python",
   "name": "python3"
  },
  "language_info": {
   "name": "python",
   "version": "3.12.7"
  }
 },
 "nbformat": 4,
 "nbformat_minor": 2
}
